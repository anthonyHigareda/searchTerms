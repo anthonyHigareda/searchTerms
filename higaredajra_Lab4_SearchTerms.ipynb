{
 "cells": [
  {
   "cell_type": "markdown",
   "id": "2cdacde0",
   "metadata": {},
   "source": [
    "**todo** Replace the contents of this cell with a brief summary of the contents of this lab"
   ]
  },
  {
   "cell_type": "code",
   "execution_count": null,
   "id": "0ab51442",
   "metadata": {},
   "outputs": [],
   "source": [
    "# In this cell: import spellcheck library and define your cleaning functions\n"
   ]
  },
  {
   "cell_type": "code",
   "execution_count": null,
   "id": "2c9201bc",
   "metadata": {},
   "outputs": [],
   "source": [
    "# In this cell: load the data, clean web spaces (%20) and split into\n",
    "# individual list of terms. Display total number of terms in the data set.\n"
   ]
  },
  {
   "cell_type": "code",
   "execution_count": null,
   "id": "cb29f5e1",
   "metadata": {},
   "outputs": [],
   "source": [
    "# In this cell: make first term frequency dictionary (step 4 in the lab document)\n",
    "# Display the top 10 most common words in the dictionary\n"
   ]
  },
  {
   "cell_type": "code",
   "execution_count": null,
   "id": "7176bf89",
   "metadata": {},
   "outputs": [],
   "source": [
    "# In this cell: apply punctuation and number cleaning functions.\n",
    "# Recreate the term frequency dictionary and display the updated top 10 list.\n"
   ]
  },
  {
   "cell_type": "code",
   "execution_count": null,
   "id": "c77b681a",
   "metadata": {},
   "outputs": [],
   "source": [
    "# In this cell: apply spell checking function. Recreate the term frequency \n",
    "# dictionary and display the updated top 10 list.\n"
   ]
  },
  {
   "cell_type": "code",
   "execution_count": null,
   "id": "5cf115c4",
   "metadata": {},
   "outputs": [],
   "source": [
    "# In this cell: create required CSV.\n"
   ]
  },
  {
   "cell_type": "markdown",
   "id": "ca54eaca",
   "metadata": {},
   "source": [
    "**Todo** Replace this cell with answers to the reflection questions in the lab document."
   ]
  },
  {
   "cell_type": "code",
   "execution_count": null,
   "id": "2fbb5a67",
   "metadata": {},
   "outputs": [],
   "source": []
  }
 ],
 "metadata": {
  "kernelspec": {
   "display_name": "Python 3 (ipykernel)",
   "language": "python",
   "name": "python3"
  },
  "language_info": {
   "codemirror_mode": {
    "name": "ipython",
    "version": 3
   },
   "file_extension": ".py",
   "mimetype": "text/x-python",
   "name": "python",
   "nbconvert_exporter": "python",
   "pygments_lexer": "ipython3",
   "version": "3.11.5"
  }
 },
 "nbformat": 4,
 "nbformat_minor": 5
}
