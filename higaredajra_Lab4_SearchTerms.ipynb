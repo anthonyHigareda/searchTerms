{
 "cells": [
  {
   "cell_type": "markdown",
   "id": "2cdacde0",
   "metadata": {},
   "source": [
    "**todo** Replace the contents of this cell with a brief summary of the contents of this lab"
   ]
  },
  {
   "cell_type": "code",
   "id": "0ab51442",
   "metadata": {
    "ExecuteTime": {
     "end_time": "2025-09-24T19:17:21.305482Z",
     "start_time": "2025-09-24T19:17:21.299912Z"
    }
   },
   "source": [
    "# In this cell: import spellcheck library and define your cleaning functions\n",
    "from spellchecker import SpellChecker\n",
    "\n",
    "def clean_web_spaces(terms):\n",
    "    return list(map(lambda s: s.replace(\"%20\", \" \"), terms))\n",
    "\n",
    "def remove_second_column(terms):\n",
    "    for i in range (len(terms)):\n",
    "        terms[i] = terms[i][0:terms[i].index(\",\")]\n",
    "    return terms\n",
    "\n",
    "def split_spaces(terms):\n",
    "    for i in range (len(terms)):\n",
    "        if \" \" in terms[i]:\n",
    "            terms.append(terms[i][terms[i].index(\" \") + 1:])\n",
    "            terms[i] = terms[i][:terms[i].index(\" \")]\n",
    "    return terms\n",
    "\n",
    "def remove_special_chars(terms):\n",
    "    for i in range (len(terms)):\n",
    "        terms[i] = \"\".join(char for char in terms[i] if char.isalnum())\n",
    "    return terms\n",
    "\n",
    "def remove_all_numeric_terms(terms):\n",
    "    numberless = []\n",
    "    for i in range (len(terms)):\n",
    "        if not terms[i].isdigit():\n",
    "            numberless.append(terms[i])\n",
    "    return numberless\n",
    "\n",
    "def make_terms_lowercase(terms):\n",
    "    for i in range (len(terms)):\n",
    "        terms[i] = terms[i].lower()\n",
    "    return terms\n"
   ],
   "outputs": [],
   "execution_count": 75
  },
  {
   "cell_type": "code",
   "id": "2c9201bc",
   "metadata": {
    "ExecuteTime": {
     "end_time": "2025-09-24T19:17:21.985691Z",
     "start_time": "2025-09-24T19:17:21.316225Z"
    }
   },
   "source": [
    "# In this cell: load the data, clean web spaces (%20) and split into\n",
    "# individual list of terms. Display total number of terms in the data set.\n",
    "terms = list(open(\"searchTerms.csv\", encoding=\"utf-8\"))\n",
    "terms.pop(0)\n",
    "terms = clean_web_spaces(terms)\n",
    "terms = remove_second_column(terms)\n",
    "terms = split_spaces(terms)\n",
    "terms = make_terms_lowercase(terms)\n",
    "print(len(terms))"
   ],
   "outputs": [
    {
     "name": "stdout",
     "output_type": "stream",
     "text": [
      "1436059\n"
     ]
    }
   ],
   "execution_count": 76
  },
  {
   "cell_type": "code",
   "id": "cb29f5e1",
   "metadata": {
    "ExecuteTime": {
     "end_time": "2025-09-24T19:17:22.292168Z",
     "start_time": "2025-09-24T19:17:22.002771Z"
    }
   },
   "source": [
    "# In this cell: make first term frequency dictionary (step 4 in the lab document)\n",
    "# Display the top 10 most common words in the dictionary\n",
    "def create_term_freq_dict(terms):\n",
    "    term_freq = {}\n",
    "    for term in terms:\n",
    "        if term not in term_freq:\n",
    "            term_freq[term] = 1\n",
    "        else:\n",
    "            term_freq[term] += 1\n",
    "\n",
    "    return dict(sorted(term_freq.items(), key=lambda item: item[1], reverse=True))\n",
    "\n",
    "freq_dict = create_term_freq_dict(terms)\n",
    "print(list(freq_dict.items())[:10])"
   ],
   "outputs": [
    {
     "name": "stdout",
     "output_type": "stream",
     "text": [
      "[('chicken', 18488), ('cheese', 13341), ('beef', 13003), ('cream', 12461), ('sauce', 11006), ('pork', 10975), ('juice', 10742), ('diced', 9524), ('potato', 9288), ('green', 9130)]\n"
     ]
    }
   ],
   "execution_count": 77
  },
  {
   "cell_type": "code",
   "id": "7176bf89",
   "metadata": {
    "ExecuteTime": {
     "end_time": "2025-09-24T19:17:23.790813Z",
     "start_time": "2025-09-24T19:17:22.299313Z"
    }
   },
   "source": [
    "# In this cell: apply punctuation and number cleaning functions.\n",
    "# Recreate the term frequency dictionary and display the updated top 10 list.\n",
    "terms = remove_special_chars(terms)\n",
    "terms = remove_all_numeric_terms(terms)\n",
    "\n",
    "freq_dict = create_term_freq_dict(terms)\n",
    "print(list(freq_dict.items())[:10])"
   ],
   "outputs": [
    {
     "name": "stdout",
     "output_type": "stream",
     "text": [
      "[('chicken', 18510), ('cheese', 13397), ('beef', 13023), ('cream', 12473), ('sauce', 11025), ('pork', 10983), ('juice', 10895), ('diced', 9524), ('potato', 9306), ('green', 9131)]\n"
     ]
    }
   ],
   "execution_count": 78
  },
  {
   "cell_type": "code",
   "id": "c77b681a",
   "metadata": {
    "ExecuteTime": {
     "end_time": "2025-09-24T19:17:23.904369Z",
     "start_time": "2025-09-24T19:17:23.900816Z"
    }
   },
   "source": [
    "# In this cell: apply spell checking function. Recreate the term frequency \n",
    "# dictionary and display the updated top 10 list.\n",
    "chk = SpellChecker()\n",
    "\n",
    "for i in range (len(terms)):\n",
    "    terms[i] = chk.correction(terms[i])\n",
    "\n",
    "freq_dict = create_term_freq_dict(terms)\n",
    "print(list(freq_dict.items())[:10])"
   ],
   "outputs": [],
   "execution_count": 79
  },
  {
   "cell_type": "code",
   "id": "5cf115c4",
   "metadata": {
    "ExecuteTime": {
     "end_time": "2025-09-24T19:17:23.919562Z",
     "start_time": "2025-09-24T19:17:23.915300Z"
    }
   },
   "source": [
    "# In this cell: create required CSV.\n"
   ],
   "outputs": [],
   "execution_count": 80
  },
  {
   "cell_type": "markdown",
   "id": "ca54eaca",
   "metadata": {},
   "source": [
    "**Todo** Replace this cell with answers to the reflection questions in the lab document."
   ]
  },
  {
   "cell_type": "code",
   "id": "2fbb5a67",
   "metadata": {
    "ExecuteTime": {
     "end_time": "2025-09-24T19:17:23.935283Z",
     "start_time": "2025-09-24T19:17:23.931921Z"
    }
   },
   "source": [],
   "outputs": [],
   "execution_count": null
  }
 ],
 "metadata": {
  "kernelspec": {
   "display_name": "Python 3 (ipykernel)",
   "language": "python",
   "name": "python3"
  },
  "language_info": {
   "codemirror_mode": {
    "name": "ipython",
    "version": 3
   },
   "file_extension": ".py",
   "mimetype": "text/x-python",
   "name": "python",
   "nbconvert_exporter": "python",
   "pygments_lexer": "ipython3",
   "version": "3.11.5"
  }
 },
 "nbformat": 4,
 "nbformat_minor": 5
}
