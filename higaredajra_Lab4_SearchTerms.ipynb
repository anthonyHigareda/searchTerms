{
 "cells": [
  {
   "cell_type": "markdown",
   "metadata": {},
   "source": [
    "**todo** Replace the contents of this cell with a brief summary of the contents of this lab"
   ],
   "id": "9ee4dafca570258"
  },
  {
   "cell_type": "code",
   "execution_count": 1,
   "metadata": {
    "ExecuteTime": {
     "end_time": "2025-09-24T19:17:21.305482Z",
     "start_time": "2025-09-24T19:17:21.299912Z"
    }
   },
   "outputs": [],
   "source": [
    "# In this cell: import spellcheck library and define your cleaning functions\n",
    "from spellchecker import SpellChecker\n",
    "import csv\n",
    "\n",
    "def clean_web_spaces(terms):\n",
    "    return list(map(lambda s: s.replace(\"%20\", \" \"), terms))\n",
    "\n",
    "def remove_second_column(terms):\n",
    "    for i in range (len(terms)):\n",
    "        terms[i] = terms[i][0:terms[i].index(\",\")]\n",
    "    return terms\n",
    "\n",
    "def split_spaces(terms):\n",
    "    for i in range (len(terms)):\n",
    "        if \" \" in terms[i]:\n",
    "            terms.append(terms[i][terms[i].index(\" \") + 1:])\n",
    "            terms[i] = terms[i][:terms[i].index(\" \")]\n",
    "    return terms\n",
    "\n",
    "def remove_special_chars(terms):\n",
    "    for i in range (len(terms)):\n",
    "        terms[i] = \"\".join(char for char in terms[i] if char.isalnum())\n",
    "    return terms\n",
    "\n",
    "def remove_all_numeric_terms(terms):\n",
    "    numberless = []\n",
    "    for i in range (len(terms)):\n",
    "        if not terms[i].isdigit():\n",
    "            numberless.append(terms[i])\n",
    "    return numberless\n",
    "\n",
    "def make_terms_lowercase(terms):\n",
    "    for i in range (len(terms)):\n",
    "        terms[i] = terms[i].lower()\n",
    "    return terms\n"
   ],
   "id": "c07b170073927439"
  },
  {
   "cell_type": "code",
   "execution_count": 2,
   "metadata": {
    "ExecuteTime": {
     "end_time": "2025-09-24T19:17:21.985691Z",
     "start_time": "2025-09-24T19:17:21.316225Z"
    }
   },
   "outputs": [
    {
     "name": "stdout",
     "output_type": "stream",
     "text": [
      "1436059\n"
     ]
    }
   ],
   "source": [
    "# In this cell: load the data, clean web spaces (%20) and split into\n",
    "# individual list of terms. Display total number of terms in the data set.\n",
    "terms = list(open(\"searchTerms.csv\", encoding=\"utf-8\"))\n",
    "terms.pop(0)\n",
    "terms = clean_web_spaces(terms)\n",
    "terms = remove_second_column(terms)\n",
    "terms = split_spaces(terms)\n",
    "terms = make_terms_lowercase(terms)\n",
    "print(len(terms))"
   ],
   "id": "8b966fc9e2f574d6"
  },
  {
   "cell_type": "code",
   "metadata": {
    "ExecuteTime": {
     "end_time": "2025-09-24T22:50:36.933186Z",
     "start_time": "2025-09-24T22:50:36.444530Z"
    }
   },
   "source": [
    "# In this cell: make first term frequency dictionary (step 4 in the lab document)\n",
    "# Display the top 10 most common words in the dictionary\n",
    "def create_term_freq_dict(terms):\n",
    "    term_freq = {}\n",
    "    for term in terms:\n",
    "        if term not in term_freq:\n",
    "            term_freq[term] = 1\n",
    "        else:\n",
    "            term_freq[term] += 1\n",
    "\n",
    "    return dict(sorted(term_freq.items(), key=lambda item: item[1], reverse=True))\n",
    "\n",
    "freq_dict = create_term_freq_dict(terms)\n",
    "print(len(freq_dict))\n",
    "print(list(freq_dict.items())[:10])"
   ],
   "id": "8376f280983a1d29",
   "outputs": [
    {
     "name": "stdout",
     "output_type": "stream",
     "text": [
      "24636\n",
      "[('chicken', 18510), ('cheese', 13397), ('beef', 13023), ('cream', 12473), ('sauce', 11025), ('pork', 10983), ('juice', 10895), ('diced', 9524), ('potato', 9306), ('green', 9131)]\n"
     ]
    }
   ],
   "execution_count": 81
  },
  {
   "cell_type": "code",
   "metadata": {
    "ExecuteTime": {
     "end_time": "2025-09-24T22:50:40.774135Z",
     "start_time": "2025-09-24T22:50:39.089523Z"
    }
   },
   "source": [
    "# In this cell: apply punctuation and number cleaning functions.\n",
    "# Recreate the term frequency dictionary and display the updated top 10 list.\n",
    "terms = remove_special_chars(terms)\n",
    "terms = remove_all_numeric_terms(terms)\n",
    "\n",
    "freq_dict = create_term_freq_dict(terms)\n",
    "print(len(freq_dict))\n",
    "print(list(freq_dict.items())[:10])"
   ],
   "id": "88be6989541efb98",
   "outputs": [
    {
     "name": "stdout",
     "output_type": "stream",
     "text": [
      "24636\n",
      "[('chicken', 18510), ('cheese', 13397), ('beef', 13023), ('cream', 12473), ('sauce', 11025), ('pork', 10983), ('juice', 10895), ('diced', 9524), ('potato', 9306), ('green', 9131)]\n"
     ]
    }
   ],
   "execution_count": 82
  },
  {
   "cell_type": "code",
   "execution_count": 5,
   "metadata": {
    "ExecuteTime": {
     "end_time": "2025-09-24T19:17:23.904369Z",
     "start_time": "2025-09-24T19:17:23.900816Z"
    },
    "scrolled": true
   },
   "outputs": [
    {
     "name": "stdout",
     "output_type": "stream",
     "text": [
      "24636\n",
      "0\n",
      "250\n",
      "500\n",
      "750\n",
      "1000\n",
      "1250\n",
      "1500\n",
      "1750\n",
      "2000\n",
      "2250\n",
      "2500\n",
      "2750\n",
      "3000\n",
      "3250\n",
      "3500\n",
      "3750\n",
      "4000\n",
      "4250\n",
      "4500\n",
      "4750\n",
      "5000\n",
      "5250\n",
      "5500\n",
      "5750\n",
      "6000\n",
      "6250\n",
      "6500\n",
      "6750\n",
      "7000\n",
      "7250\n",
      "7500\n",
      "7750\n",
      "8000\n",
      "8250\n",
      "8500\n",
      "8750\n",
      "9000\n",
      "9250\n",
      "9500\n",
      "9750\n",
      "10000\n",
      "10250\n",
      "10500\n",
      "10750\n",
      "11000\n",
      "11250\n",
      "11500\n",
      "11750\n",
      "12000\n",
      "12250\n",
      "12500\n",
      "12750\n",
      "13000\n",
      "13250\n",
      "13500\n",
      "13750\n",
      "14000\n",
      "14250\n",
      "14500\n",
      "14750\n",
      "15000\n",
      "15250\n",
      "15500\n",
      "15750\n",
      "16000\n",
      "16250\n",
      "16500\n",
      "16750\n",
      "17000\n",
      "17250\n",
      "17500\n"
     ]
    },
    {
     "ename": "KeyboardInterrupt",
     "evalue": "",
     "output_type": "error",
     "traceback": [
      "\u001B[0;31m---------------------------------------------------------------------------\u001B[0m",
      "\u001B[0;31mKeyboardInterrupt\u001B[0m                         Traceback (most recent call last)",
      "\u001B[0;32m<ipython-input-5-baa6daa03b04>\u001B[0m in \u001B[0;36m<module>\u001B[0;34m\u001B[0m\n\u001B[1;32m      8\u001B[0m \u001B[0;34m\u001B[0m\u001B[0m\n\u001B[1;32m      9\u001B[0m \u001B[0;32mfor\u001B[0m \u001B[0mi\u001B[0m \u001B[0;32min\u001B[0m \u001B[0mrange\u001B[0m \u001B[0;34m(\u001B[0m\u001B[0mlen\u001B[0m\u001B[0;34m(\u001B[0m\u001B[0mfreq_dict_list\u001B[0m\u001B[0;34m)\u001B[0m\u001B[0;34m)\u001B[0m\u001B[0;34m:\u001B[0m\u001B[0;34m\u001B[0m\u001B[0;34m\u001B[0m\u001B[0m\n\u001B[0;32m---> 10\u001B[0;31m     \u001B[0mspellchecked_dict\u001B[0m\u001B[0;34m[\u001B[0m\u001B[0mfreq_dict_list\u001B[0m\u001B[0;34m[\u001B[0m\u001B[0mi\u001B[0m\u001B[0;34m]\u001B[0m\u001B[0;34m]\u001B[0m \u001B[0;34m=\u001B[0m \u001B[0mchk\u001B[0m\u001B[0;34m.\u001B[0m\u001B[0mcorrection\u001B[0m\u001B[0;34m(\u001B[0m\u001B[0mfreq_dict_list\u001B[0m\u001B[0;34m[\u001B[0m\u001B[0mi\u001B[0m\u001B[0;34m]\u001B[0m\u001B[0;34m)\u001B[0m\u001B[0;34m\u001B[0m\u001B[0;34m\u001B[0m\u001B[0m\n\u001B[0m\u001B[1;32m     11\u001B[0m     \u001B[0;32mif\u001B[0m \u001B[0mi\u001B[0m \u001B[0;34m%\u001B[0m \u001B[0;36m250\u001B[0m \u001B[0;34m==\u001B[0m \u001B[0;36m0\u001B[0m\u001B[0;34m:\u001B[0m\u001B[0;34m\u001B[0m\u001B[0;34m\u001B[0m\u001B[0m\n\u001B[1;32m     12\u001B[0m         \u001B[0mprint\u001B[0m\u001B[0;34m(\u001B[0m\u001B[0mi\u001B[0m\u001B[0;34m)\u001B[0m\u001B[0;34m\u001B[0m\u001B[0;34m\u001B[0m\u001B[0m\n",
      "\u001B[0;32m/usr/local/lib/python3.6/dist-packages/spellchecker/spellchecker.py\u001B[0m in \u001B[0;36mcorrection\u001B[0;34m(self, word)\u001B[0m\n\u001B[1;32m    146\u001B[0m                 str: The most likely candidate \"\"\"\n\u001B[1;32m    147\u001B[0m         \u001B[0mword\u001B[0m \u001B[0;34m=\u001B[0m \u001B[0mENSURE_UNICODE\u001B[0m\u001B[0;34m(\u001B[0m\u001B[0mword\u001B[0m\u001B[0;34m)\u001B[0m\u001B[0;34m\u001B[0m\u001B[0;34m\u001B[0m\u001B[0m\n\u001B[0;32m--> 148\u001B[0;31m         \u001B[0mcandidates\u001B[0m \u001B[0;34m=\u001B[0m \u001B[0mlist\u001B[0m\u001B[0;34m(\u001B[0m\u001B[0mself\u001B[0m\u001B[0;34m.\u001B[0m\u001B[0mcandidates\u001B[0m\u001B[0;34m(\u001B[0m\u001B[0mword\u001B[0m\u001B[0;34m)\u001B[0m\u001B[0;34m)\u001B[0m\u001B[0;34m\u001B[0m\u001B[0;34m\u001B[0m\u001B[0m\n\u001B[0m\u001B[1;32m    149\u001B[0m         \u001B[0;32mreturn\u001B[0m \u001B[0mmax\u001B[0m\u001B[0;34m(\u001B[0m\u001B[0msorted\u001B[0m\u001B[0;34m(\u001B[0m\u001B[0mcandidates\u001B[0m\u001B[0;34m)\u001B[0m\u001B[0;34m,\u001B[0m \u001B[0mkey\u001B[0m\u001B[0;34m=\u001B[0m\u001B[0mself\u001B[0m\u001B[0;34m.\u001B[0m\u001B[0mword_probability\u001B[0m\u001B[0;34m)\u001B[0m\u001B[0;34m\u001B[0m\u001B[0;34m\u001B[0m\u001B[0m\n\u001B[1;32m    150\u001B[0m \u001B[0;34m\u001B[0m\u001B[0m\n",
      "\u001B[0;32m/usr/local/lib/python3.6/dist-packages/spellchecker/spellchecker.py\u001B[0m in \u001B[0;36mcandidates\u001B[0;34m(self, word)\u001B[0m\n\u001B[1;32m    171\u001B[0m         \u001B[0;31m# if still not found, use the edit distance 1 to calc edit distance 2\u001B[0m\u001B[0;34m\u001B[0m\u001B[0;34m\u001B[0m\u001B[0;34m\u001B[0m\u001B[0m\n\u001B[1;32m    172\u001B[0m         \u001B[0;32mif\u001B[0m \u001B[0mself\u001B[0m\u001B[0;34m.\u001B[0m\u001B[0m_distance\u001B[0m \u001B[0;34m==\u001B[0m \u001B[0;36m2\u001B[0m\u001B[0;34m:\u001B[0m\u001B[0;34m\u001B[0m\u001B[0;34m\u001B[0m\u001B[0m\n\u001B[0;32m--> 173\u001B[0;31m             \u001B[0mtmp\u001B[0m \u001B[0;34m=\u001B[0m \u001B[0mself\u001B[0m\u001B[0;34m.\u001B[0m\u001B[0mknown\u001B[0m\u001B[0;34m(\u001B[0m\u001B[0;34m[\u001B[0m\u001B[0mx\u001B[0m \u001B[0;32mfor\u001B[0m \u001B[0mx\u001B[0m \u001B[0;32min\u001B[0m \u001B[0mself\u001B[0m\u001B[0;34m.\u001B[0m\u001B[0m__edit_distance_alt\u001B[0m\u001B[0;34m(\u001B[0m\u001B[0mres\u001B[0m\u001B[0;34m)\u001B[0m\u001B[0;34m]\u001B[0m\u001B[0;34m)\u001B[0m\u001B[0;34m\u001B[0m\u001B[0;34m\u001B[0m\u001B[0m\n\u001B[0m\u001B[1;32m    174\u001B[0m             \u001B[0;32mif\u001B[0m \u001B[0mtmp\u001B[0m\u001B[0;34m:\u001B[0m\u001B[0;34m\u001B[0m\u001B[0;34m\u001B[0m\u001B[0m\n\u001B[1;32m    175\u001B[0m                 \u001B[0;32mreturn\u001B[0m \u001B[0mtmp\u001B[0m\u001B[0;34m\u001B[0m\u001B[0;34m\u001B[0m\u001B[0m\n",
      "\u001B[0;32m/usr/local/lib/python3.6/dist-packages/spellchecker/spellchecker.py\u001B[0m in \u001B[0;36mknown\u001B[0;34m(self, words)\u001B[0m\n\u001B[1;32m    189\u001B[0m         return set(\n\u001B[1;32m    190\u001B[0m             \u001B[0mw\u001B[0m\u001B[0;34m\u001B[0m\u001B[0;34m\u001B[0m\u001B[0m\n\u001B[0;32m--> 191\u001B[0;31m             \u001B[0;32mfor\u001B[0m \u001B[0mw\u001B[0m \u001B[0;32min\u001B[0m \u001B[0mtmp\u001B[0m\u001B[0;34m\u001B[0m\u001B[0;34m\u001B[0m\u001B[0m\n\u001B[0m\u001B[1;32m    192\u001B[0m             \u001B[0;32mif\u001B[0m \u001B[0mw\u001B[0m \u001B[0;32min\u001B[0m \u001B[0mself\u001B[0m\u001B[0;34m.\u001B[0m\u001B[0m_word_frequency\u001B[0m\u001B[0;34m.\u001B[0m\u001B[0mdictionary\u001B[0m\u001B[0;34m\u001B[0m\u001B[0;34m\u001B[0m\u001B[0m\n\u001B[1;32m    193\u001B[0m             \u001B[0;32mand\u001B[0m \u001B[0mself\u001B[0m\u001B[0;34m.\u001B[0m\u001B[0m_check_if_should_check\u001B[0m\u001B[0;34m(\u001B[0m\u001B[0mw\u001B[0m\u001B[0;34m)\u001B[0m\u001B[0;34m\u001B[0m\u001B[0;34m\u001B[0m\u001B[0m\n",
      "\u001B[0;32m/usr/local/lib/python3.6/dist-packages/spellchecker/spellchecker.py\u001B[0m in \u001B[0;36m<genexpr>\u001B[0;34m(.0)\u001B[0m\n\u001B[1;32m    190\u001B[0m             \u001B[0mw\u001B[0m\u001B[0;34m\u001B[0m\u001B[0;34m\u001B[0m\u001B[0m\n\u001B[1;32m    191\u001B[0m             \u001B[0;32mfor\u001B[0m \u001B[0mw\u001B[0m \u001B[0;32min\u001B[0m \u001B[0mtmp\u001B[0m\u001B[0;34m\u001B[0m\u001B[0;34m\u001B[0m\u001B[0m\n\u001B[0;32m--> 192\u001B[0;31m             \u001B[0;32mif\u001B[0m \u001B[0mw\u001B[0m \u001B[0;32min\u001B[0m \u001B[0mself\u001B[0m\u001B[0;34m.\u001B[0m\u001B[0m_word_frequency\u001B[0m\u001B[0;34m.\u001B[0m\u001B[0mdictionary\u001B[0m\u001B[0;34m\u001B[0m\u001B[0;34m\u001B[0m\u001B[0m\n\u001B[0m\u001B[1;32m    193\u001B[0m             \u001B[0;32mand\u001B[0m \u001B[0mself\u001B[0m\u001B[0;34m.\u001B[0m\u001B[0m_check_if_should_check\u001B[0m\u001B[0;34m(\u001B[0m\u001B[0mw\u001B[0m\u001B[0;34m)\u001B[0m\u001B[0;34m\u001B[0m\u001B[0;34m\u001B[0m\u001B[0m\n\u001B[1;32m    194\u001B[0m         )\n",
      "\u001B[0;32m/usr/local/lib/python3.6/dist-packages/spellchecker/spellchecker.py\u001B[0m in \u001B[0;36mdictionary\u001B[0;34m(self)\u001B[0m\n\u001B[1;32m    325\u001B[0m         \u001B[0;32mreturn\u001B[0m \u001B[0mself\u001B[0m\u001B[0;34m.\u001B[0m\u001B[0m_dictionary\u001B[0m\u001B[0;34m.\u001B[0m\u001B[0mpop\u001B[0m\u001B[0;34m(\u001B[0m\u001B[0mkey\u001B[0m\u001B[0;34m,\u001B[0m \u001B[0mdefault\u001B[0m\u001B[0;34m)\u001B[0m\u001B[0;34m\u001B[0m\u001B[0;34m\u001B[0m\u001B[0m\n\u001B[1;32m    326\u001B[0m \u001B[0;34m\u001B[0m\u001B[0m\n\u001B[0;32m--> 327\u001B[0;31m     \u001B[0;34m@\u001B[0m\u001B[0mproperty\u001B[0m\u001B[0;34m\u001B[0m\u001B[0;34m\u001B[0m\u001B[0m\n\u001B[0m\u001B[1;32m    328\u001B[0m     \u001B[0;32mdef\u001B[0m \u001B[0mdictionary\u001B[0m\u001B[0;34m(\u001B[0m\u001B[0mself\u001B[0m\u001B[0;34m)\u001B[0m\u001B[0;34m:\u001B[0m\u001B[0;34m\u001B[0m\u001B[0;34m\u001B[0m\u001B[0m\n\u001B[1;32m    329\u001B[0m         \"\"\" Counter: A counting dictionary of all words in the corpus and the \\\n",
      "\u001B[0;31mKeyboardInterrupt\u001B[0m: "
     ]
    }
   ],
   "source": [
    "# In this cell: apply spell checking function. Recreate the term frequency \n",
    "# dictionary and display the updated top 10 list.\n",
    "chk = SpellChecker()\n",
    "\n",
    "spellchecked_dict = {}\n",
    "freq_dict_list = list(freq_dict)\n",
    "print(len(freq_dict_list))\n",
    "    \n",
    "for i in range (len(freq_dict_list)):\n",
    "    spellchecked_dict[freq_dict_list[i]] = chk.correction(freq_dict_list[i])\n",
    "    if i % 250 == 0:\n",
    "        print(i)\n",
    "        \n",
    "for i in range (len(terms)):\n",
    "    terms[i] = spellchecked_dict[terms[i]]\n",
    "\n",
    "freq_dict = create_term_freq_dict(terms)\n",
    "print(list(freq_dict.items())[:10])"
   ],
   "id": "39136346244f8c4c"
  },
  {
   "cell_type": "markdown",
   "metadata": {},
   "source": [
    "Note: \n",
    "`if i % 250 == 0:\n",
    "    print(i)`\n",
    "is for monitoring purposes. This cell's runtime is over 2 hours so I wanted to make sure it was properly executing."
   ],
   "id": "b62e4d43e5c7b8a0"
  },
  {
   "cell_type": "code",
   "execution_count": null,
   "metadata": {
    "ExecuteTime": {
     "end_time": "2025-09-24T19:17:23.919562Z",
     "start_time": "2025-09-24T19:17:23.915300Z"
    }
   },
   "outputs": [],
   "source": [
    "# In this cell: create required CSV.\n",
    "cleaned = open(\"cleanedSearchTerms.csv\", 'w', newline = \"\")\n",
    "writer = csv.writer(cleaned)\n",
    "writer.writerows(terms)\n",
    "cleaned.close()"
   ],
   "id": "3603bbb452d18245"
  },
  {
   "cell_type": "markdown",
   "metadata": {},
   "source": [
    "**Responses**\n",
    "1. \n",
    "2. There are approximately 25,000 distinct terms in each dictionary prior to spellchecking. After spellchecking, there are <> terms.\n",
    "3. \n",
    "4. I think that the special characters and nonwords originated from some administrative or debugging purposes only to be used by the developers of DSSI, and the others are abbreviated medical terms that don't make much sense to people outside the medical field.\n",
    "5. "
   ],
   "id": "ac4f567d90c00d42"
  }
 ],
 "metadata": {
  "kernelspec": {
   "display_name": "Python 3",
   "language": "python",
   "name": "python3"
  }
 },
 "nbformat": 4,
 "nbformat_minor": 5
}
